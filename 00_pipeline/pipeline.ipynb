{
 "cells": [
  {
   "cell_type": "code",
   "execution_count": 0,
   "metadata": {
    "application/vnd.databricks.v1+cell": {
     "cellMetadata": {
      "byteLimit": 2048000,
      "rowLimit": 10000
     },
     "inputWidgets": {},
     "nuid": "426f59ea-cb4a-44f4-946c-cb521fa673e6",
     "showTitle": true,
     "tableResultSettingsMap": {},
     "title": "Data Ingestion, Transformation, and Analysis Steps"
    }
   },
   "outputs": [],
   "source": [
    "# Notebook orquestrador - executa Bronze → Silver → Gold com tratamento de erro\n",
    "# Caminhos para os notebooks (ajuste se os nomes dos arquivos forem diferentes)\n",
    "bronze_path = \"/Workspace/Users/eerrvr@gmail.com/Yellow_Trip_Records/01_bronze_ingestao/ingestao_2025\"\n",
    "silver_path = \"/Workspace/Users/eerrvr@gmail.com/Yellow_Trip_Records/02_silver_tratamento/limpeza_transformacao\"\n",
    "gold_path = \"/Workspace/Users/eerrvr@gmail.com/Yellow_Trip_Records/03_gold_analise/tabelas_analiticas\"\n",
    "\n",
    "timeout = 100  # tempo limite em segundos\n",
    "\n",
    "def run_notebook(notebook_path, layer_name):\n",
    "    try:\n",
    "        output = dbutils.notebook.run(notebook_path, timeout)\n",
    "        print(f\"Output da camada {layer_name}: {output}\")\n",
    "    except Exception as e:\n",
    "        raise Exception(f\"Erro na execução da camada {layer_name}: {str(e)}\")\n",
    "\n",
    "# Executa os notebooks Bronze, Silver e Gold\n",
    "run_notebook(bronze_path, \"Bronze\")\n",
    "run_notebook(silver_path, \"Silver\")\n",
    "run_notebook(gold_path, \"Gold\")"
   ]
  }
 ],
 "metadata": {
  "application/vnd.databricks.v1+notebook": {
   "computePreferences": null,
   "dashboards": [],
   "environmentMetadata": {
    "base_environment": "",
    "environment_version": "2"
   },
   "inputWidgetPreferences": null,
   "language": "python",
   "notebookMetadata": {
    "pythonIndentUnit": 4
   },
   "notebookName": "pipeline",
   "widgets": {}
  },
  "language_info": {
   "name": "python"
  }
 },
 "nbformat": 4,
 "nbformat_minor": 0
}
