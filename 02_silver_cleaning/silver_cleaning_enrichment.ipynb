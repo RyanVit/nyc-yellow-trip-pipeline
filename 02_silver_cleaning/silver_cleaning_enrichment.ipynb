{
 "cells": [
  {
   "cell_type": "markdown",
   "metadata": {
    "application/vnd.databricks.v1+cell": {
     "cellMetadata": {},
     "inputWidgets": {},
     "nuid": "38f587be-b9cd-42ce-a86c-a2b446bc8dff",
     "showTitle": false,
     "tableResultSettingsMap": {},
     "title": ""
    }
   },
   "source": []
  },
  {
   "cell_type": "markdown",
   "metadata": {
    "application/vnd.databricks.v1+cell": {
     "cellMetadata": {},
     "inputWidgets": {},
     "nuid": "9886728c-1c69-422c-b03e-2cc70efe9c47",
     "showTitle": false,
     "tableResultSettingsMap": {},
     "title": ""
    }
   },
   "source": [
    "Camada Silver – Limpeza e Transformação\n",
    "\n",
    "##  Documentação\n",
    "\n",
    "**Objetivo:**  \n",
    "Limpar, padronizar e enriquecer os dados brutos da camada Bronze, removendo registros inválidos e preparando os dados para análise.\n",
    "\n",
    "**Entradas:**  \n",
    "- Tabela Delta: `lakehouse.bronze.yellow_trip`\n",
    "\n",
    "**Saídas:**  \n",
    "- Tabela Delta: `lakehouse.silver.yellow_trip` (tratada e enriquecida)\n",
    "\n",
    "**Transformações aplicadas:**\n",
    "- Renomeio de colunas para `snake_case`\n",
    "- Filtros:\n",
    "  - `passenger_count > 0`\n",
    "  - `trip_distance > 0`\n",
    "  - `fare_amount > 0`\n",
    "- Remoção de duplicatas\n",
    "- Enriquecimento:\n",
    "  - `vendor_id` → nome da empresa\n",
    "  - `payment_type` → descrição da forma de pagamento\n",
    "\n",
    "## Decisões Tomadas\n",
    "\n",
    "- Utilizado PySpark para processamento distribuído eficiente.\n",
    "- Adicionadas colunas descritivas para facilitar análise de negócio.\n",
    "- Evitou-se qualquer transformação que mudasse os valores originais relevantes.\n"
   ]
  },
  {
   "cell_type": "code",
   "execution_count": 0,
   "metadata": {
    "application/vnd.databricks.v1+cell": {
     "cellMetadata": {
      "byteLimit": 2048000,
      "rowLimit": 10000
     },
     "inputWidgets": {},
     "nuid": "41005071-4156-4be1-a33f-30bff3f068a3",
     "showTitle": false,
     "tableResultSettingsMap": {},
     "title": ""
    }
   },
   "outputs": [],
   "source": [
    "import pyspark.sql.functions as F"
   ]
  },
  {
   "cell_type": "code",
   "execution_count": 0,
   "metadata": {
    "application/vnd.databricks.v1+cell": {
     "cellMetadata": {
      "byteLimit": 2048000,
      "rowLimit": 10000
     },
     "inputWidgets": {},
     "nuid": "585b811c-89c4-408b-ae30-b1cfe1a6743e",
     "showTitle": true,
     "tableResultSettingsMap": {},
     "title": "# Transformação e Limpeza dos Dados (Camada Silver)"
    }
   },
   "outputs": [],
   "source": [
    "# Reads the bronze layer table\n",
    "table_bronze = spark.read.table(\"lakehouse.bronze.yellow_trip\")\n",
    "\n",
    "# Selects and renames columns with snake_case\n",
    "df_silver = table_bronze.select(\n",
    "    F.col(\"VendorID\").alias(\"vendor_id\"),\n",
    "    F.col(\"tpep_pickup_datetime\").alias(\"pickup_datetime\"),\n",
    "    F.col(\"tpep_dropoff_datetime\").alias(\"dropoff_datetime\"),\n",
    "    F.col(\"passenger_count\"),\n",
    "    F.col(\"trip_distance\"),\n",
    "    F.col(\"RatecodeID\").alias(\"ratecode_id\"),\n",
    "    F.col(\"store_and_fwd_flag\"),\n",
    "    F.col(\"PULocationID\").alias(\"pu_location_id\"),\n",
    "    F.col(\"DOLocationID\").alias(\"do_location_id\"),\n",
    "    F.col(\"payment_type\"),\n",
    "    F.col(\"fare_amount\"),\n",
    "    F.col(\"total_amount\")\n",
    ")\n",
    "\n",
    "# Filters invalid records\n",
    "df_silver = df_silver.filter(\n",
    "    (F.col(\"passenger_count\") > 0) &\n",
    "    (F.col(\"trip_distance\") > 0) &\n",
    "    (F.col(\"fare_amount\") > 0)\n",
    ")\n",
    "\n",
    "# Removes duplicates\n",
    "df_silver_clean = df_silver.dropDuplicates()"
   ]
  },
  {
   "cell_type": "code",
   "execution_count": 0,
   "metadata": {
    "application/vnd.databricks.v1+cell": {
     "cellMetadata": {},
     "inputWidgets": {},
     "nuid": "58889485-c169-4533-a9be-e812a978b757",
     "showTitle": true,
     "tableResultSettingsMap": {},
     "title": "Criando a tabela Silver"
    }
   },
   "outputs": [],
   "source": [
    "\n",
    "df_silver_clean.write.mode(\"overwrite\").saveAsTable(\"lakehouse.silver.yellow_trip\")\n"
   ]
  },
  {
   "cell_type": "code",
   "execution_count": 0,
   "metadata": {
    "application/vnd.databricks.v1+cell": {
     "cellMetadata": {},
     "inputWidgets": {},
     "nuid": "ad86acf3-17a6-48d8-a638-cb7bb0645d06",
     "showTitle": true,
     "tableResultSettingsMap": {},
     "title": "Enriquecimento dos Dados com Descrições"
    }
   },
   "outputs": [],
   "source": [
    "df_silver = spark.read.table(\"lakehouse.silver.yellow_trip\") \\\n",
    "    .withColumn(\"vendor_name\", F.expr(\"\"\"\n",
    "        CASE \n",
    "            WHEN vendor_id = 1 THEN 'Creative Mobile Technologies, LLC'\n",
    "            WHEN vendor_id = 2 THEN 'Curb Mobility, LCC'\n",
    "            WHEN vendor_id = 6 THEN 'Myle Technologies Inc'\n",
    "            WHEN vendor_id = 7 THEN 'Helix'\n",
    "            ELSE 'Desconhecido'\n",
    "        END\n",
    "    \"\"\")) \\\n",
    "    .withColumn(\"payment_description\", F.expr(\"\"\"\n",
    "        CASE \n",
    "            WHEN payment_type = 0 THEN 'Flex Fare trip'\n",
    "            WHEN payment_type = 1 THEN 'Credit card'\n",
    "            WHEN payment_type = 2 THEN 'Cash'\n",
    "            WHEN payment_type = 3 THEN 'No charge'\n",
    "            WHEN payment_type = 4 THEN 'Dispute'\n",
    "            WHEN payment_type = 5 THEN 'Unknown'\n",
    "            WHEN payment_type = 6 THEN 'Voided trip'\n",
    "            ELSE 'Outros'\n",
    "        END\n",
    "    \"\"\"))\n"
   ]
  },
  {
   "cell_type": "code",
   "execution_count": 0,
   "metadata": {
    "application/vnd.databricks.v1+cell": {
     "cellMetadata": {},
     "inputWidgets": {},
     "nuid": "75ff34b4-8ee1-4210-ac00-a16909410fdf",
     "showTitle": false,
     "tableResultSettingsMap": {},
     "title": ""
    }
   },
   "outputs": [],
   "source": []
  }
 ],
 "metadata": {
  "application/vnd.databricks.v1+notebook": {
   "computePreferences": null,
   "dashboards": [],
   "environmentMetadata": {
    "base_environment": "",
    "environment_version": "2"
   },
   "inputWidgetPreferences": null,
   "language": "python",
   "notebookMetadata": {
    "pythonIndentUnit": 4
   },
   "notebookName": "silver_cleaning_enrichment",
   "widgets": {}
  },
  "language_info": {
   "name": "python"
  }
 },
 "nbformat": 4,
 "nbformat_minor": 0
}
