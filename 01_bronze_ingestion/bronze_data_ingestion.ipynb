{
 "cells": [
  {
   "cell_type": "markdown",
   "metadata": {
    "application/vnd.databricks.v1+cell": {
     "cellMetadata": {},
     "inputWidgets": {},
     "nuid": "5b5cdab1-9e05-4ec7-852c-668eeadb3fe1",
     "showTitle": false,
     "tableResultSettingsMap": {},
     "title": ""
    }
   },
   "source": [
    "#  Camada Bronze – Ingestão de Dados\n",
    "\n",
    "##  Documentação\n",
    "\n",
    "**Objetivo:**  \n",
    "Realizar a ingestão bruta dos arquivos `yellow_tripdata_2025-MM.parquet` diretamente de uma URL pública, com lógica de retry e salvamento no volume bronze.\n",
    "\n",
    "**Entradas:**  \n",
    "- URL pública com os arquivos de viagens mensais em formato Parquet.\n",
    "\n",
    "**Saídas:**  \n",
    "- Arquivos salvos na camada `bronze` (`/Volumes/lakehouse/bronze/filestore/`).\n",
    "\n",
    "**Transformações aplicadas:**  \n",
    "- Nenhuma transformação nos dados (cópia bruta).\n",
    "- Retry automático caso falhe por erro HTTP.\n",
    "- Skip do mês caso o arquivo não seja encontrado (erro 403).\n",
    "\n",
    "##  Decisões Tomadas\n",
    "\n",
    "- Adotado o volume Delta para garantir estruturação futura.\n",
    "- Retry configurado com 5 tentativas e 5s de espera.\n",
    "- Controle de erro simples para permitir automação no pipeline."
   ]
  },
  {
   "cell_type": "code",
   "execution_count": 0,
   "metadata": {
    "application/vnd.databricks.v1+cell": {
     "cellMetadata": {},
     "inputWidgets": {},
     "nuid": "c33b48c5-b01c-4290-a976-203e08fb022c",
     "showTitle": true,
     "tableResultSettingsMap": {},
     "title": "Importações"
    }
   },
   "outputs": [],
   "source": [
    "import requests\n",
    "import datetime\n",
    "import pandas\n",
    "import pyspark.sql.functions as F\n",
    "import time\n"
   ]
  },
  {
   "cell_type": "code",
   "execution_count": 0,
   "metadata": {
    "application/vnd.databricks.v1+cell": {
     "cellMetadata": {},
     "inputWidgets": {},
     "nuid": "a038fc47-2cea-4be3-bf20-0bdb85a0349c",
     "showTitle": true,
     "tableResultSettingsMap": {},
     "title": "Ingestão de Dados Mensais com Re-tentativas"
    }
   },
   "outputs": [],
   "source": [
    "url_base = \"https://d37ci6vzurychx.cloudfront.net/trip-data/\"\n",
    "bronze_path = \"/Volumes/lakehouse/bronze/filestore/\"\n",
    "\n",
    "max_retries = 5\n",
    "retry_delay = 5  # seconds\n",
    "\n",
    "for month in range(1, 13):\n",
    "    try:\n",
    "        month_str = f\"{month:02d}\"\n",
    "        file_date = f\"yellow_tripdata_2025-{month_str}.parquet\"\n",
    "        url = url_base + file_date\n",
    "        retries = 0\n",
    "\n",
    "        while retries < max_retries:\n",
    "            try:\n",
    "                dbutils.fs.cp(url, bronze_path)  # try to copy the file\n",
    "                break\n",
    "            except Exception as e:\n",
    "                if \"403\" in str(e):  # file not found\n",
    "                    print(f\"File not found: {file_date}\")\n",
    "                    break\n",
    "                retries += 1\n",
    "                if retries >= max_retries:\n",
    "                    raise e\n",
    "                time.sleep(retry_delay)  # wait before retrying\n",
    "\n",
    "    except Exception as e:\n",
    "        print(f\"Error copying {file_date}: {e}\")"
   ]
  }
 ],
 "metadata": {
  "application/vnd.databricks.v1+notebook": {
   "computePreferences": null,
   "dashboards": [],
   "environmentMetadata": {
    "base_environment": "",
    "environment_version": "2"
   },
   "inputWidgetPreferences": null,
   "language": "python",
   "notebookMetadata": {
    "pythonIndentUnit": 4
   },
   "notebookName": "bronze_data_ingestion",
   "widgets": {}
  },
  "language_info": {
   "name": "python"
  }
 },
 "nbformat": 4,
 "nbformat_minor": 0
}
