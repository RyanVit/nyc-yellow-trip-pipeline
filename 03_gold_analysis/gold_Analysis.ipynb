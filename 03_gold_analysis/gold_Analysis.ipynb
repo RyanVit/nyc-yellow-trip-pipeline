{
 "cells": [
  {
   "cell_type": "markdown",
   "metadata": {
    "application/vnd.databricks.v1+cell": {
     "cellMetadata": {
      "byteLimit": 2048000,
      "rowLimit": 10000
     },
     "inputWidgets": {},
     "nuid": "0bafd72e-9a90-426a-b6be-fbd42e1a0573",
     "showTitle": false,
     "tableResultSettingsMap": {},
     "title": ""
    }
   },
   "source": [
    "%md\n",
    "# Camada Gold – Análises e Tabelas Agregadas\n",
    "\n",
    "## Documentação\n",
    "\n",
    "**Objetivo:**  \n",
    "Gerar tabelas analíticas agregadas com insights para tomada de decisão, a partir da camada Silver tratada e enriquecida.\n",
    "\n",
    "**Entradas:**  \n",
    "- Tabela Delta: `lakehouse.silver.yellow_trip`\n",
    "\n",
    "**Saídas (Gold Tables):**  \n",
    "- `lakehouse.gold.revenue_by_vendor`\n",
    "- `lakehouse.gold.trips_by_payment`\n",
    "- `lakehouse.gold.revenue_by_day`\n",
    "- `lakehouse.gold.profitable_hour`\n",
    "- `lakehouse.gold.monthly_revenue`\n",
    "\n",
    "**Transformações aplicadas:**  \n",
    "- Agrupamentos por data, empresa e tipo de pagamento\n",
    "- Cálculo de faturamento total, média de distância, lucro por milha\n",
    "- Extração de hora e dia de coleta (`pickup_datetime`)\n",
    "\n",
    "## Decisões Tomadas\n",
    "\n",
    "- Tabelas escritas com `mergeSchema` para permitir evolução de esquema.\n",
    "- Insights escolhidos com base em perguntas de negócio comuns:\n",
    "  - Quem mais fatura?\n",
    "  - Qual a forma de pagamento mais usada?\n",
    "  - Qual o dia mais lucrativo?\n",
    "  - Em qual horário há maior rentabilidade?\n",
    "- Automatização programada via **Databricks Workflows** para execução contínua.\n"
   ]
  },
  {
   "cell_type": "code",
   "execution_count": 0,
   "metadata": {
    "application/vnd.databricks.v1+cell": {
     "cellMetadata": {
      "byteLimit": 2048000,
      "rowLimit": 10000
     },
     "inputWidgets": {},
     "nuid": "3e423f37-2858-4fe3-8a73-93ba79bad34a",
     "showTitle": true,
     "tableResultSettingsMap": {},
     "title": "Importar Funções do PySpark"
    }
   },
   "outputs": [],
   "source": [
    "import pyspark.sql.functions as F"
   ]
  },
  {
   "cell_type": "code",
   "execution_count": 0,
   "metadata": {
    "application/vnd.databricks.v1+cell": {
     "cellMetadata": {
      "byteLimit": 2048000,
      "rowLimit": 10000
     },
     "inputWidgets": {},
     "nuid": "fe94f270-8ac5-4d37-8f59-7f9beb250b7a",
     "showTitle": true,
     "tableResultSettingsMap": {},
     "title": "Adicionar Colunas de Descrição para Corridas"
    }
   },
   "outputs": [],
   "source": [
    "\n",
    "#enriquecimento semântico dos dados da Silver\n",
    "df_silver = spark.read.table(\"lakehouse.silver.yellow_trip\") \\\n",
    "    .withColumn(\"vendor_name\", F.expr(\"\"\"\n",
    "        CASE \n",
    "            WHEN vendor_id = 1 THEN 'Creative Mobile Technologies, LLC'\n",
    "            WHEN vendor_id = 2 THEN 'Curb Mobility, LCC'\n",
    "            WHEN vendor_id = 6 THEN 'Myle Technologies Inc'\n",
    "            WHEN vendor_id = 7 THEN 'Helix'\n",
    "            ELSE 'Desconhecido'\n",
    "        END\n",
    "    \"\"\")) \\\n",
    "    .withColumn(\"payment_description\", F.expr(\"\"\"\n",
    "        CASE \n",
    "            WHEN payment_type = 0 THEN 'Flex Fare trip'\n",
    "            WHEN payment_type = 1 THEN 'Credit card'\n",
    "            WHEN payment_type = 2 THEN 'Cash'\n",
    "            WHEN payment_type = 3 THEN 'No charge'\n",
    "            WHEN payment_type = 4 THEN 'Dispute'\n",
    "            WHEN payment_type = 5 THEN 'Unknown'\n",
    "            WHEN payment_type = 6 THEN 'Voided trip'\n",
    "            ELSE 'Outros'\n",
    "        END\n",
    "    \"\"\"))\n"
   ]
  },
  {
   "cell_type": "code",
   "execution_count": 0,
   "metadata": {
    "application/vnd.databricks.v1+cell": {
     "cellMetadata": {
      "byteLimit": 2048000,
      "rowLimit": 10000
     },
     "inputWidgets": {},
     "nuid": "8fe20a09-6f53-4b86-bee2-302c801713e8",
     "showTitle": true,
     "tableResultSettingsMap": {},
     "title": "Resumo Mensal de Corridas"
    }
   },
   "outputs": [],
   "source": [
    "# Agrupar por fornecedor, ano e mês da corrida\n",
    "df_monthly_revenue = df_silver.groupBy(\n",
    "    \"vendor_name\",\n",
    "    F.year(\"pickup_datetime\").alias(\"year\"),\n",
    "    F.month(\"pickup_datetime\").alias(\"month\")\n",
    ").agg(\n",
    "    F.sum(\"total_amount\").alias(\"total_revenue\"),\n",
    "    F.avg(\"trip_distance\").alias(\"avg_distance\"),\n",
    "    F.count(\"pickup_datetime\").alias(\"rides_per_day\")\n",
    ")\n",
    "\n",
    "# Salvar os resultados como uma tabela na camada Gold com mesclagem de esquema habilitada\n",
    "df_monthly_revenue.write.mode(\"overwrite\").option(\"overwriteSchema\", \"true\").saveAsTable(\"lakehouse.gold.monthly_revenue\")"
   ]
  },
  {
   "cell_type": "code",
   "execution_count": 0,
   "metadata": {
    "application/vnd.databricks.v1+cell": {
     "cellMetadata": {
      "byteLimit": 2048000,
      "rowLimit": 10000
     },
     "inputWidgets": {},
     "nuid": "d9595de0-c4d9-45d9-9cf1-a7c3d7328b92",
     "showTitle": true,
     "tableResultSettingsMap": {},
     "title": "Contagem por Forma de Pagamento"
    }
   },
   "outputs": [],
   "source": [
    "df_payment = df_silver.groupBy(\"vendor_name\", \"payment_description\") \\\n",
    "    .count().orderBy(\"count\")\n",
    "\n",
    "df_payment.write.mode(\"overwrite\").option(\"overwriteSchema\", \"true\").saveAsTable(\"lakehouse.gold.rides_by_payment\")"
   ]
  },
  {
   "cell_type": "code",
   "execution_count": 0,
   "metadata": {
    "application/vnd.databricks.v1+cell": {
     "cellMetadata": {
      "byteLimit": 2048000,
      "rowLimit": 10000
     },
     "inputWidgets": {},
     "nuid": "cab41da5-8732-4120-b82a-b4d0ee166a46",
     "showTitle": true,
     "tableResultSettingsMap": {},
     "title": "Faturamento por Empresa"
    }
   },
   "outputs": [],
   "source": [
    "df_profitable_vendor = df_silver.groupBy(\"vendor_name\") \\\n",
    "    .agg(F.round(F.sum(\"total_amount\"),2).alias(\"total_revenue\")) \\\n",
    "    .orderBy(F.desc(\"total_revenue\"))\n",
    "\n",
    "df_profitable_vendor.write.mode(\"overwrite\").option(\"overwriteSchema\", \"true\").saveAsTable(\"lakehouse.gold.revenue_by_vendor\")"
   ]
  },
  {
   "cell_type": "code",
   "execution_count": 0,
   "metadata": {
    "application/vnd.databricks.v1+cell": {
     "cellMetadata": {
      "byteLimit": 2048000,
      "rowLimit": 10000
     },
     "inputWidgets": {},
     "nuid": "a03deac8-73d9-4125-9694-1b26daac61f2",
     "showTitle": true,
     "tableResultSettingsMap": {},
     "title": "Faturamento por Dia e Distância"
    }
   },
   "outputs": [],
   "source": [
    "df_profitable_day = df_silver.withColumn(\"trip_date\", F.to_date(\"pickup_datetime\")) \\\n",
    "    .groupBy(\"vendor_name\", \"trip_date\") \\\n",
    "    .agg(\n",
    "        F.round(F.sum(\"total_amount\"), 2).alias(\"total_revenue\"),\n",
    "        F.round(F.avg(\"trip_distance\"), 2).alias(\"avg_distance\")\n",
    "    ) \\\n",
    "    .withColumn(\"revenue_per_mile\", F.round( F.col(\"total_revenue\") / F.col(\"avg_distance\"),2)) \\\n",
    "    \n",
    "df_profitable_day.write.mode(\"overwrite\").option(\"overwriteSchema\", \"true\").saveAsTable(\"lakehouse.gold.revenue_per_day\")"
   ]
  },
  {
   "cell_type": "code",
   "execution_count": 0,
   "metadata": {
    "application/vnd.databricks.v1+cell": {
     "cellMetadata": {
      "byteLimit": 2048000,
      "rowLimit": 10000
     },
     "inputWidgets": {},
     "nuid": "44d730cf-f696-4f08-a7b1-5f5196034626",
     "showTitle": true,
     "tableResultSettingsMap": {},
     "title": "Horário mais lucrativo"
    }
   },
   "outputs": [],
   "source": [
    "# Perform the inner aggregation first\n",
    "df_inner_agg = df_silver.withColumn(\"trip_date\", F.to_date(\"pickup_datetime\")) \\\n",
    "    .withColumn(\"trip_hour\", F.hour(\"pickup_datetime\")) \\\n",
    "    .groupBy(\"vendor_name\", \"trip_date\", \"trip_hour\") \\\n",
    "    .agg(F.round(F.sum(\"total_amount\"),2).alias(\"total_revenue\"))\n",
    "\n",
    "# Perform the outer aggregation\n",
    "df_profitable_hour = df_inner_agg.groupBy(\"vendor_name\", \"trip_date\", \"trip_hour\") \\\n",
    "    .agg(F.max(\"total_revenue\").alias(\"total_revenue\")) \\\n",
    "    .orderBy(\"trip_hour\")\n",
    "\n",
    "# Write the result to the table\n",
    "df_profitable_hour.write.mode(\"overwrite\").option(\"overwriteSchema\", \"true\").saveAsTable(\"lakehouse.gold.profitable_hour\")\n",
    "\n"
   ]
  },
  {
   "cell_type": "code",
   "execution_count": 0,
   "metadata": {
    "application/vnd.databricks.v1+cell": {
     "cellMetadata": {
      "byteLimit": 2048000,
      "rowLimit": 10000
     },
     "inputWidgets": {},
     "nuid": "af82ae8f-3eb3-44af-bb22-de974b3accc6",
     "showTitle": false,
     "tableResultSettingsMap": {},
     "title": ""
    }
   },
   "outputs": [],
   "source": [
    "tables = [t.name for t in spark.catalog.listTables(\"lakehouse.gold\")]\n",
    "\n",
    "for table in tables:\n",
    "    df = spark.table(f\"lakehouse.gold.{table}\")\n",
    "    df.write.mode(\"overwrite\").option(\"header\", \"true\").csv(f\"s3://your-bucket-name/{table}.csv\")"
   ]
  }
 ],
 "metadata": {
  "application/vnd.databricks.v1+notebook": {
   "computePreferences": {
    "hardware": {
     "accelerator": null,
     "gpuPoolId": null,
     "memory": null
    }
   },
   "dashboards": [],
   "environmentMetadata": {
    "base_environment": "",
    "environment_version": "2"
   },
   "inputWidgetPreferences": null,
   "language": "python",
   "notebookMetadata": {
    "pythonIndentUnit": 4
   },
   "notebookName": "gold_Analysis",
   "widgets": {}
  },
  "language_info": {
   "name": "python"
  }
 },
 "nbformat": 4,
 "nbformat_minor": 0
}
